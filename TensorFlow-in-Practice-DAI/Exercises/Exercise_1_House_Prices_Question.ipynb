{
  "nbformat": 4,
  "nbformat_minor": 0,
  "metadata": {
    "colab": {
      "name": "Exercise 1 - House Prices - Question.ipynb",
      "provenance": []
    },
    "kernelspec": {
      "name": "python3",
      "display_name": "Python 3"
    }
  },
  "cells": [
    {
      "cell_type": "markdown",
      "metadata": {
        "id": "mw2VBrBcgvGa",
        "colab_type": "text"
      },
      "source": [
        "In this exercise you'll try to build a neural network that predicts the price of a house according to a simple formula.\n",
        "\n",
        "So, imagine if house pricing was as easy as a house costs 50k + 50k per bedroom, so that a 1 bedroom house costs 100k, a 2 bedroom house costs 150k etc.\n",
        "\n",
        "How would you create a neural network that learns this relationship so that it would predict a 7 bedroom house as costing close to 400k etc.\n",
        "\n",
        "Hint: Your network might work better if you scale the house price down. You don't have to give the answer 400...it might be better to create something that predicts the number 4, and then your answer is in the 'hundreds of thousands' etc."
      ]
    },
    {
      "cell_type": "code",
      "metadata": {
        "id": "PUNO2E6SeURH",
        "colab_type": "code",
        "colab": {
          "base_uri": "https://localhost:8080/",
          "height": 1000
        },
        "outputId": "6d9ba956-171e-4eaa-8f1f-6c168f565116"
      },
      "source": [
        "import tensorflow as tf\n",
        "import numpy as np\n",
        "from tensorflow import keras\n",
        "model = keras.Sequential([keras.layers.Dense(units = 1, input_shape = [1])])\n",
        "model.compile(optimizer = 'sgd', loss = 'mean_squared_error')\n",
        "xs = np.array([z for z in range(1,10)])\n",
        "x2 = np.array([1,2,3,4,5,6,7,8,9])\n",
        "print(xs)\n",
        "print(x2)\n",
        "ys = np.array([((x*.5)+.5) for x in xs])\n",
        "print(ys)\n",
        "model.fit(xs, ys, epochs = 50)\n",
        "print(model.predict([7.0]))"
      ],
      "execution_count": 27,
      "outputs": [
        {
          "output_type": "stream",
          "text": [
            "[1 2 3 4 5 6 7 8 9]\n",
            "[1 2 3 4 5 6 7 8 9]\n",
            "[1.  1.5 2.  2.5 3.  3.5 4.  4.5 5. ]\n",
            "Train on 9 samples\n",
            "Epoch 1/50\n",
            "9/9 [==============================] - 0s 26ms/sample - loss: 21.0372\n",
            "Epoch 2/50\n",
            "9/9 [==============================] - 0s 191us/sample - loss: 2.6602\n",
            "Epoch 3/50\n",
            "9/9 [==============================] - 0s 150us/sample - loss: 0.3984\n",
            "Epoch 4/50\n",
            "9/9 [==============================] - 0s 160us/sample - loss: 0.1196\n",
            "Epoch 5/50\n",
            "9/9 [==============================] - 0s 161us/sample - loss: 0.0847\n",
            "Epoch 6/50\n",
            "9/9 [==============================] - 0s 188us/sample - loss: 0.0798\n",
            "Epoch 7/50\n",
            "9/9 [==============================] - 0s 156us/sample - loss: 0.0786\n",
            "Epoch 8/50\n",
            "9/9 [==============================] - 0s 166us/sample - loss: 0.0779\n",
            "Epoch 9/50\n",
            "9/9 [==============================] - 0s 217us/sample - loss: 0.0773\n",
            "Epoch 10/50\n",
            "9/9 [==============================] - 0s 196us/sample - loss: 0.0766\n",
            "Epoch 11/50\n",
            "9/9 [==============================] - 0s 231us/sample - loss: 0.0760\n",
            "Epoch 12/50\n",
            "9/9 [==============================] - 0s 175us/sample - loss: 0.0754\n",
            "Epoch 13/50\n",
            "9/9 [==============================] - 0s 294us/sample - loss: 0.0748\n",
            "Epoch 14/50\n",
            "9/9 [==============================] - 0s 237us/sample - loss: 0.0742\n",
            "Epoch 15/50\n",
            "9/9 [==============================] - 0s 161us/sample - loss: 0.0736\n",
            "Epoch 16/50\n",
            "9/9 [==============================] - 0s 169us/sample - loss: 0.0730\n",
            "Epoch 17/50\n",
            "9/9 [==============================] - 0s 193us/sample - loss: 0.0724\n",
            "Epoch 18/50\n",
            "9/9 [==============================] - 0s 189us/sample - loss: 0.0718\n",
            "Epoch 19/50\n",
            "9/9 [==============================] - 0s 193us/sample - loss: 0.0712\n",
            "Epoch 20/50\n",
            "9/9 [==============================] - 0s 179us/sample - loss: 0.0706\n",
            "Epoch 21/50\n",
            "9/9 [==============================] - 0s 254us/sample - loss: 0.0700\n",
            "Epoch 22/50\n",
            "9/9 [==============================] - 0s 138us/sample - loss: 0.0694\n",
            "Epoch 23/50\n",
            "9/9 [==============================] - 0s 152us/sample - loss: 0.0689\n",
            "Epoch 24/50\n",
            "9/9 [==============================] - 0s 173us/sample - loss: 0.0683\n",
            "Epoch 25/50\n",
            "9/9 [==============================] - 0s 158us/sample - loss: 0.0677\n",
            "Epoch 26/50\n",
            "9/9 [==============================] - 0s 154us/sample - loss: 0.0672\n",
            "Epoch 27/50\n",
            "9/9 [==============================] - 0s 127us/sample - loss: 0.0666\n",
            "Epoch 28/50\n",
            "9/9 [==============================] - 0s 514us/sample - loss: 0.0661\n",
            "Epoch 29/50\n",
            "9/9 [==============================] - 0s 191us/sample - loss: 0.0655\n",
            "Epoch 30/50\n",
            "9/9 [==============================] - 0s 237us/sample - loss: 0.0650\n",
            "Epoch 31/50\n",
            "9/9 [==============================] - 0s 131us/sample - loss: 0.0645\n",
            "Epoch 32/50\n",
            "9/9 [==============================] - 0s 130us/sample - loss: 0.0640\n",
            "Epoch 33/50\n",
            "9/9 [==============================] - 0s 357us/sample - loss: 0.0634\n",
            "Epoch 34/50\n",
            "9/9 [==============================] - 0s 194us/sample - loss: 0.0629\n",
            "Epoch 35/50\n",
            "9/9 [==============================] - 0s 186us/sample - loss: 0.0624\n",
            "Epoch 36/50\n",
            "9/9 [==============================] - 0s 157us/sample - loss: 0.0619\n",
            "Epoch 37/50\n",
            "9/9 [==============================] - 0s 186us/sample - loss: 0.0614\n",
            "Epoch 38/50\n",
            "9/9 [==============================] - 0s 173us/sample - loss: 0.0609\n",
            "Epoch 39/50\n",
            "9/9 [==============================] - 0s 197us/sample - loss: 0.0604\n",
            "Epoch 40/50\n",
            "9/9 [==============================] - 0s 320us/sample - loss: 0.0599\n",
            "Epoch 41/50\n",
            "9/9 [==============================] - 0s 303us/sample - loss: 0.0594\n",
            "Epoch 42/50\n",
            "9/9 [==============================] - 0s 168us/sample - loss: 0.0589\n",
            "Epoch 43/50\n",
            "9/9 [==============================] - 0s 138us/sample - loss: 0.0584\n",
            "Epoch 44/50\n",
            "9/9 [==============================] - 0s 161us/sample - loss: 0.0579\n",
            "Epoch 45/50\n",
            "9/9 [==============================] - 0s 146us/sample - loss: 0.0575\n",
            "Epoch 46/50\n",
            "9/9 [==============================] - 0s 162us/sample - loss: 0.0570\n",
            "Epoch 47/50\n",
            "9/9 [==============================] - 0s 150us/sample - loss: 0.0565\n",
            "Epoch 48/50\n",
            "9/9 [==============================] - 0s 151us/sample - loss: 0.0561\n",
            "Epoch 49/50\n",
            "9/9 [==============================] - 0s 156us/sample - loss: 0.0556\n",
            "Epoch 50/50\n",
            "9/9 [==============================] - 0s 146us/sample - loss: 0.0551\n",
            "[[4.057324]]\n"
          ],
          "name": "stdout"
        }
      ]
    },
    {
      "cell_type": "code",
      "metadata": {
        "id": "xT3wp-1c1_Mr",
        "colab_type": "code",
        "colab": {}
      },
      "source": [
        ""
      ],
      "execution_count": 0,
      "outputs": []
    }
  ]
}